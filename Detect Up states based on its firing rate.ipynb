{
 "cells": [
  {
   "cell_type": "code",
   "execution_count": 11,
   "metadata": {},
   "outputs": [],
   "source": [
    "import numpy as np\n",
    "import math\n",
    "import matplotlib.pyplot as plt\n",
    "from scipy.stats import norm"
   ]
  },
  {
   "cell_type": "markdown",
   "metadata": {},
   "source": [
    "READ FILE"
   ]
  },
  {
   "cell_type": "code",
   "execution_count": 12,
   "metadata": {},
   "outputs": [],
   "source": [
    "Filex='Raster_Exc_gKCa0.570_blockgKCa1.000_seed1564989.dat'\n",
    "\n",
    "spktime=[]\n",
    "neuronIndex=[]\n",
    "with open(Filex, 'r') as file:\n",
    "    for line in file:\n",
    "        if not line.startswith('#'):\n",
    "            spktime.append(float(line.split()[0]))\n",
    "            neuronIndex.append(int(line.split()[1]))\n",
    "            \n",
    "spktime=np.asarray(spktime)\n",
    "neuronIndex=np.asarray(neuronIndex)\n",
    "FRglobal,_=np.histogram(spktime,bins=1000, density=True)"
   ]
  },
  {
   "cell_type": "markdown",
   "metadata": {},
   "source": [
    "Compute Up state based on its spike trains"
   ]
  },
  {
   "cell_type": "code",
   "execution_count": 13,
   "metadata": {},
   "outputs": [
    {
     "name": "stdout",
     "output_type": "stream",
     "text": [
      "Mean Up state duration: 0.572650\n"
     ]
    }
   ],
   "source": [
    "UpStates=[]\n",
    "for neuron in range(0,1000):\n",
    "    trainspikes=spktime[np.where(neuronIndex==neuron)[0]]\n",
    "    if(len(trainspikes)>10):\n",
    "        ###a=Histogran of spikes\n",
    "        a = [x - trainspikes for x in trainspikes]\n",
    "        a=np.concatenate(a)\n",
    "        a=a[np.where((a<2.0) & (a>-2.))[0]]\n",
    "        mu,sigma=norm.fit(a)\n",
    "        UpStates.append(float(2*sigma))\n",
    "print(\"Mean Up state duration: %lf\"%np.mean(UpStates))"
   ]
  },
  {
   "cell_type": "code",
   "execution_count": null,
   "metadata": {},
   "outputs": [],
   "source": []
  }
 ],
 "metadata": {
  "kernelspec": {
   "display_name": "Python 3",
   "language": "python",
   "name": "python3"
  },
  "language_info": {
   "codemirror_mode": {
    "name": "ipython",
    "version": 3
   },
   "file_extension": ".py",
   "mimetype": "text/x-python",
   "name": "python",
   "nbconvert_exporter": "python",
   "pygments_lexer": "ipython3",
   "version": "3.7.4"
  }
 },
 "nbformat": 4,
 "nbformat_minor": 2
}
